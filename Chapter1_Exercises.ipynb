{
 "cells": [
  {
   "cell_type": "markdown",
   "id": "231a0628",
   "metadata": {},
   "source": [
    "# Chapter 1: Exercises\n",
    "\n",
    "Problmes 1, 3, 4"
   ]
  },
  {
   "cell_type": "markdown",
   "id": "bd8c5aa3",
   "metadata": {},
   "source": [
    "## Exercise 1"
   ]
  },
  {
   "cell_type": "code",
   "execution_count": 4,
   "id": "fed06425",
   "metadata": {},
   "outputs": [
    {
     "name": "stdout",
     "output_type": "stream",
     "text": [
      "This is a test of the Python interpreter\n"
     ]
    }
   ],
   "source": [
    "# example of the print function\n",
    "print(\"This is a test of the Python interpreter\")"
   ]
  },
  {
   "cell_type": "code",
   "execution_count": 5,
   "id": "d346321b",
   "metadata": {},
   "outputs": [
    {
     "name": "stdout",
     "output_type": "stream",
     "text": [
      "Number of days in a week:  7\n"
     ]
    }
   ],
   "source": [
    "# example of the print function\n",
    "print(\"Number of days in a week: \", 7)"
   ]
  },
  {
   "cell_type": "markdown",
   "id": "447f72d1",
   "metadata": {},
   "source": [
    "## Exercise 3"
   ]
  },
  {
   "cell_type": "code",
   "execution_count": 6,
   "id": "dc5a760c",
   "metadata": {},
   "outputs": [],
   "source": [
    "# Convert 11 to binary\n",
    "# 1011\n",
    "\n",
    "# Convert 65 to binary\n",
    "# 1000001\n",
    "\n",
    "# Convert 100 to binary\n",
    "# 1100100\n",
    "\n",
    "# Convert 255 to binary\n",
    "# 11111111"
   ]
  },
  {
   "cell_type": "markdown",
   "id": "58da24b3",
   "metadata": {},
   "source": [
    "## Exercise 4"
   ]
  },
  {
   "cell_type": "code",
   "execution_count": 7,
   "id": "b4ca7560",
   "metadata": {},
   "outputs": [],
   "source": [
    "# Convert 1101 to decimal\n",
    "# 13\n",
    "\n",
    "# Convert 1000 to decimal\n",
    "# 8\n",
    "\n",
    "# Convert 101011 to decimal\n",
    "# 43"
   ]
  },
  {
   "cell_type": "code",
   "execution_count": null,
   "id": "0ae94bd0",
   "metadata": {},
   "outputs": [],
   "source": []
  }
 ],
 "metadata": {
  "kernelspec": {
   "display_name": "Python 3 (ipykernel)",
   "language": "python",
   "name": "python3"
  },
  "language_info": {
   "codemirror_mode": {
    "name": "ipython",
    "version": 3
   },
   "file_extension": ".py",
   "mimetype": "text/x-python",
   "name": "python",
   "nbconvert_exporter": "python",
   "pygments_lexer": "ipython3",
   "version": "3.10.9"
  }
 },
 "nbformat": 4,
 "nbformat_minor": 5
}
