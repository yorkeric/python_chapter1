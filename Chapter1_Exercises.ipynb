{
 "cells": [
  {
   "cell_type": "markdown",
   "id": "e2ed4a11",
   "metadata": {},
   "source": [
    "# Chapter 1: Exercises\n",
    "\n",
    "Problmes 1, 3, 4"
   ]
  },
  {
   "cell_type": "markdown",
   "id": "a39bfa20",
   "metadata": {},
   "source": [
    "## Exercise 1"
   ]
  },
  {
   "cell_type": "code",
   "execution_count": 4,
   "id": "4b90f9c3",
   "metadata": {},
   "outputs": [
    {
     "name": "stdout",
     "output_type": "stream",
     "text": [
      "This is a test of the Python interpreter\n"
     ]
    }
   ],
   "source": [
    "print(\"This is a test of the Python interpreter\")"
   ]
  },
  {
   "cell_type": "code",
   "execution_count": 5,
   "id": "7f9da055",
   "metadata": {},
   "outputs": [
    {
     "name": "stdout",
     "output_type": "stream",
     "text": [
      "Number of days in a week:  7\n"
     ]
    }
   ],
   "source": [
    "print(\"Number of days in a week: \", 7)"
   ]
  },
  {
   "cell_type": "markdown",
   "id": "cf61204f",
   "metadata": {},
   "source": [
    "## Exercise 3"
   ]
  },
  {
   "cell_type": "code",
   "execution_count": null,
   "id": "c37aa343",
   "metadata": {},
   "outputs": [],
   "source": []
  }
 ],
 "metadata": {
  "kernelspec": {
   "display_name": "Python 3 (ipykernel)",
   "language": "python",
   "name": "python3"
  },
  "language_info": {
   "codemirror_mode": {
    "name": "ipython",
    "version": 3
   },
   "file_extension": ".py",
   "mimetype": "text/x-python",
   "name": "python",
   "nbconvert_exporter": "python",
   "pygments_lexer": "ipython3",
   "version": "3.10.9"
  }
 },
 "nbformat": 4,
 "nbformat_minor": 5
}
