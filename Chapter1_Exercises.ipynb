{
 "cells": [
  {
   "cell_type": "markdown",
   "id": "231a0628",
   "metadata": {},
   "source": [
    "# Chapter 1: Exercises\n",
    "\n",
    "Problmes 1, 3, 4"
   ]
  },
  {
   "cell_type": "markdown",
   "id": "bd8c5aa3",
   "metadata": {},
   "source": [
    "## Exercise 1"
   ]
  },
  {
   "cell_type": "code",
   "execution_count": 4,
   "id": "fed06425",
   "metadata": {},
   "outputs": [
    {
     "name": "stdout",
     "output_type": "stream",
     "text": [
      "This is a test of the Python interpreter\n"
     ]
    }
   ],
   "source": [
    "# example of the print function\n",
    "print(\"This is a test of the Python interpreter\")"
   ]
  },
  {
   "cell_type": "code",
   "execution_count": 5,
   "id": "d346321b",
   "metadata": {},
   "outputs": [
    {
     "name": "stdout",
     "output_type": "stream",
     "text": [
      "Number of days in a week:  7\n"
     ]
    }
   ],
   "source": [
    "# example of the print function with multiple items\n",
    "print(\"Number of days in a week: \", 7)"
   ]
  },
  {
   "cell_type": "markdown",
   "id": "447f72d1",
   "metadata": {},
   "source": [
    "## Exercise 3"
   ]
  },
  {
   "cell_type": "code",
   "execution_count": 6,
   "id": "dc5a760c",
   "metadata": {},
   "outputs": [],
   "source": [
    "# Convert decimal value 11 to binary:\n",
    "# Subtract the largest power of 2 that fits into 11, which is 8, leaving a remainder of 3\n",
    "# Subtract the largest power of 2 that fits into 3, which is 2, leaving a remainder of 1\n",
    "# Subtract the largest power of 2 that fits into 1, which is 1, leaving a remainder of 0\n",
    "# 8   4   2   1 (binary place values)\n",
    "# 1   0   1   1 (binary value)\n",
    "# The binary representation of 11 has the 8, 2, and 1 bits on, leading to the binary value: 1011 (the answer)\n",
    "\n",
    "# Convert decimal value 65 to binary:\n",
    "# Subtract the largest power of 2 that fits into 65, which is 64, leaving a remainder of 1\n",
    "# Subtract the largest power of 2 that fits into 1, which is 1, leaving a remainder of 0\n",
    "# 64  32  16   8   4   2   1 (binary place values)\n",
    "# 1   0   0    0   0   0   1 (binary value)\n",
    "# The binary representation of 65 has the 64 and 1 bits on, leading to the binary value: 1000001 (the answer)\n",
    "\n",
    "# Convert decimal value 100 to binary:\n",
    "# Subtract the largest power of 2 that fits into 100, which is 64, leaving a remainder of 36\n",
    "# Subtract the largest power of 2 that fits into 36, which is 32, leaving a remainder of 4\n",
    "# Subtract the largest power of 2 that fits into 4, which is 4, leaving a remainder of 0\n",
    "# 64  32  16   8   4   2   1 (binary place values)\n",
    "# 1   1   0    0   1   0   0 (binary value)\n",
    "# The binary representation of 100 has the 64, 32, and 4 bits on, leading to the binary value: 1100100 (the answer)\n",
    "\n",
    "# Convert 255 to binary\n",
    "# Subtract the largest power of 2 that fits into 255, which is 128, leaving a remainder of 127\n",
    "# Subtract the largest power of 2 that fits into 127, which is 64, leaving a remainder of 63\n",
    "# Subtract the largest power of 2 that fits into 63, which is 32, leaving a remainder of 31\n",
    "# Subtract the largest power of 2 that fits into 31, which is 16, leaving a remainder of 15\n",
    "# Subtract the largest power of 2 that fits into 15, which is 8, leaving a remainder of 7\n",
    "# Subtract the largest power of 2 that fits into 7, which is 4, leaving a remainder of 3\n",
    "# Subtract the largest power of 2 that fits into 3, which is 2, leaving a remainder of 1\n",
    "# Subtract the largest power of 2 that fits into 1, which is 1, leaving a remainder of 0\n",
    "# 128  64  32  16   8   4   2   1 (binary place values)\n",
    "#   1   1   1   1   1   1   1   1 (binary value)\n",
    "# The binary representation of 255 has the 128, 64, 32, 16, 8, 4, 2, and 1 bits on, leading to the binary value: 11111111 (the answer)"
   ]
  },
  {
   "cell_type": "markdown",
   "id": "58da24b3",
   "metadata": {},
   "source": [
    "## Exercise 4"
   ]
  },
  {
   "cell_type": "code",
   "execution_count": 7,
   "id": "b4ca7560",
   "metadata": {},
   "outputs": [],
   "source": [
    "# Convert binary value 1101 to decimal:\n",
    "# 128  64  32  16   8   4   2   1 (binary place values)\n",
    "#  0    0   0   0   1   1   0   1 (binary value)\n",
    "# The bits 8, 4, and 1 are on, so the decimal value is 8 + 4 + 1 = 13 (the answer)\n",
    "\n",
    "# Convert binary value 1000 to decimal:\n",
    "# 128  64  32  16   8   4   2   1 (binary place values)\n",
    "#  0    0   0   0   1   0   0   0 (binary value)\n",
    "# The bit 8 is on, so the decimal value is 8 (the answer)\n",
    "\n",
    "# Convert binary value 101011 to decimal:\n",
    "# 128  64  32  16   8   4   2   1 (binary place values)\n",
    "#  0    0   1   0   1   0   1   1 (binary value)\n",
    "# The bits 32, 8, 2, 1 are on, so the decimal value is 32 + 8 + 2 + 1 = 43 (the answer)"
   ]
  },
  {
   "cell_type": "code",
   "execution_count": null,
   "id": "0ae94bd0",
   "metadata": {},
   "outputs": [],
   "source": []
  }
 ],
 "metadata": {
  "kernelspec": {
   "display_name": "Python 3 (ipykernel)",
   "language": "python",
   "name": "python3"
  },
  "language_info": {
   "codemirror_mode": {
    "name": "ipython",
    "version": 3
   },
   "file_extension": ".py",
   "mimetype": "text/x-python",
   "name": "python",
   "nbconvert_exporter": "python",
   "pygments_lexer": "ipython3",
   "version": "3.10.9"
  }
 },
 "nbformat": 4,
 "nbformat_minor": 5
}
